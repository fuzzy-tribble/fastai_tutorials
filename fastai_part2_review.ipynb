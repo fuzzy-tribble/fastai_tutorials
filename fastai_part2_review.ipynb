{
 "cells": [
  {
   "cell_type": "markdown",
   "metadata": {},
   "source": [
    "# Fastai Course Part II Notes"
   ]
  },
  {
   "cell_type": "markdown",
   "metadata": {},
   "source": [
    "## \n",
    "\n",
    "NN From thr Ground up (Lesson 8-10)\n",
    "\n",
    "\n",
    "Pytorch runs Atem\n",
    "% timeit\n",
    "Broadcasting\n",
    "\n",
    "einstein summation\n",
    "\n",
    "halide\n",
    "\n",
    "gistit -> sharable link\n",
    "\n",
    "yield vs return -> coroutine: funct that can reutn lots of things lots of times next, next, next\n",
    "\n",
    "tensorboard integration -> fastai\n",
    "\n",
    "decorators\n",
    "\n",
    "fastai callback concepts\n",
    "\n",
    "closure\n",
    "\n",
    "beginning of lesson 10 = REALLY USEFUL\n",
    "\n",
    "code browsing\n",
    "\n",
    "softmax quicktip\n",
    "\n",
    "CUDA -> put shit on the GPU\n",
    "\n",
    "Lesson: 11-12\n",
    "\n",
    "\n"
   ]
  }
 ],
 "metadata": {
  "kernelspec": {
   "display_name": "Python 3",
   "language": "python",
   "name": "python3"
  },
  "language_info": {
   "codemirror_mode": {
    "name": "ipython",
    "version": 3
   },
   "file_extension": ".py",
   "mimetype": "text/x-python",
   "name": "python",
   "nbconvert_exporter": "python",
   "pygments_lexer": "ipython3",
   "version": "3.7.4"
  }
 },
 "nbformat": 4,
 "nbformat_minor": 2
}
