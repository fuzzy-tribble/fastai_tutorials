{
 "cells": [
  {
   "cell_type": "markdown",
   "metadata": {
    "colab_type": "text",
    "id": "slcoVkOzJQmJ"
   },
   "source": [
    "# Fastai Course Part I Notes"
   ]
  },
  {
   "cell_type": "markdown",
   "metadata": {
    "colab_type": "text",
    "heading_collapsed": true,
    "id": "jrxyfzqyOWqP"
   },
   "source": [
    "# Steps to Train a Model (fastai image classification)\n",
    "\n",
    "The purpose of this section is to help you understand at the highest level what training a model to perform a task really means. \n",
    "\n",
    "We will go through an example with the case of image classification using the [MNIST dataset][1].\n",
    "\n",
    "[1]:[http://yann.lecun.com/exdb/mnist/]"
   ]
  },
  {
   "cell_type": "code",
   "execution_count": 0,
   "metadata": {
    "colab": {},
    "colab_type": "code",
    "hidden": true,
    "id": "Gn1qAFqPLOC3"
   },
   "outputs": [],
   "source": [
    "# Directives\n",
    "%reload_ext autoreload\n",
    "%autoreload 2\n",
    "%matplotlib inline"
   ]
  },
  {
   "cell_type": "code",
   "execution_count": 0,
   "metadata": {
    "colab": {},
    "colab_type": "code",
    "hidden": true,
    "id": "08wRy_VYLStl"
   },
   "outputs": [],
   "source": [
    "# Imports\n",
    "from fastai.vision import *"
   ]
  },
  {
   "cell_type": "markdown",
   "metadata": {
    "colab_type": "text",
    "hidden": true,
    "id": "V1LEjyrIJoXB"
   },
   "source": [
    "## 1. Create `DataBunch`\n",
    "\n",
    "> Create a `DataBunch` object (in the case of image classification it will be a `ImageDataBunch`).\n",
    "\n",
    "\n",
    "### Additional Notes\n",
    "\n",
    "* **Train, Test and Validation Datasets:** The training dataset is used to teach your model based on the labels. The validation dataset is used to make sure you are not overfitting and check how well you have trained using the training dataset. Finally, the test dataset is the final test that you run to double check the results you got with your validation dataset.\n",
    "\n",
    "* `ImageDataBunch.from_x` where x can be csv, dataframe, folder, lists and more. It is useful to be able to load data that is labeled in these common ways.\n",
    "\n",
    "* `normalize(imagenet_stats)` is important to call on images to make sure they don't have a specific color channel (RGB) that is higher or lower than the others (ie normalize -> mean = 0; stdev = 1)\n",
    "\n",
    "* `np.random.seed(2)` Setting this random seed will make sure that if you use a percentage of your training data as a validation set that you choose the *same validation dataset each time*."
   ]
  },
  {
   "cell_type": "code",
   "execution_count": 0,
   "metadata": {
    "colab": {
     "base_uri": "https://localhost:8080/",
     "height": 323
    },
    "colab_type": "code",
    "hidden": true,
    "id": "2hLSdowpOLJq",
    "outputId": "be9f68cb-df2f-4090-f2c8-09837a98a5ba"
   },
   "outputs": [
    {
     "data": {
      "text/plain": [
       "ImageDataBunch;\n",
       "\n",
       "Train: LabelList (12396 items)\n",
       "x: ImageList\n",
       "Image (3, 28, 28),Image (3, 28, 28),Image (3, 28, 28),Image (3, 28, 28),Image (3, 28, 28)\n",
       "y: CategoryList\n",
       "7,7,7,7,7\n",
       "Path: /root/.fastai/data/mnist_sample;\n",
       "\n",
       "Valid: LabelList (2038 items)\n",
       "x: ImageList\n",
       "Image (3, 28, 28),Image (3, 28, 28),Image (3, 28, 28),Image (3, 28, 28),Image (3, 28, 28)\n",
       "y: CategoryList\n",
       "7,7,7,7,7\n",
       "Path: /root/.fastai/data/mnist_sample;\n",
       "\n",
       "Test: None"
      ]
     },
     "execution_count": 3,
     "metadata": {
      "tags": []
     },
     "output_type": "execute_result"
    }
   ],
   "source": [
    "np.random.seed(2)\n",
    "\n",
    "path = untar_data(URLs.MNIST_SAMPLE)\n",
    "\n",
    "data = ImageDataBunch.from_folder(path)\n",
    "data.normalize(imagenet_stats)"
   ]
  },
  {
   "cell_type": "markdown",
   "metadata": {
    "colab_type": "text",
    "hidden": true,
    "id": "K-_v1NC3J2T-"
   },
   "source": [
    "## 2. Create Learner (and define model architecture)\n",
    "\n",
    "> Create a learner (cnn_learner, rnn_learner, etc) and feed it your data and your model/architecture. Also tell it what metrics you want to print out as it learns.\n",
    "\n",
    "### Additional Notes\n",
    "\n",
    "* **Models/Architectures**: ResnetX (where X is the number of layers) is a pre-trained model that has been trained using a dataset called imagenet.\n",
    "\n",
    "* **Metrics**: The metrics like error rate is *calculated in relation to the validation* set to show you how well you model is doing with images where it doesn't get to look at the labels.\n",
    "\n",
    "* `learner.save()` is a useful function that saves the model in its current state (ie, all the current weights are saved). It defaults to saving in a subdirectory called models. This is really useful because if you overfit or run a test and mess things up your weights, you can revert back to your previously saved model.\n",
    "\n",
    "* `learner.load()` loads a previously saved model so that if you broke something you can go back to a previous state."
   ]
  },
  {
   "cell_type": "code",
   "execution_count": 0,
   "metadata": {
    "colab": {
     "base_uri": "https://localhost:8080/",
     "height": 53
    },
    "colab_type": "code",
    "hidden": true,
    "id": "5uCl5Y6eOC-Y",
    "outputId": "10565696-4229-4155-b3be-90740b50bb44"
   },
   "outputs": [
    {
     "name": "stderr",
     "output_type": "stream",
     "text": [
      "Downloading: \"https://download.pytorch.org/models/resnet18-5c106cde.pth\" to /root/.cache/torch/checkpoints/resnet18-5c106cde.pth\n",
      "100%|██████████| 46827520/46827520 [00:00<00:00, 80631117.14it/s]\n"
     ]
    }
   ],
   "source": [
    "learner = cnn_learner(data, models.resnet18, metrics=[error_rate, accuracy])"
   ]
  },
  {
   "cell_type": "markdown",
   "metadata": {
    "colab_type": "text",
    "hidden": true,
    "id": "QGRHDDfZPiEz"
   },
   "source": [
    "## 3. Train Learner & Interpret Results (Repeat as Needed)\n",
    "\n",
    "### Run First Training Cycle\n",
    "\n",
    "```python\n",
    "learner.fit_one_cycle(4, 3e-3)\n",
    "```\n",
    "\n",
    "By default this will add some layers to the end of the pre-trained model you loaded before (ie. transfer learning). Train for 4 epochs with a max learning rate of 3e-3.\n",
    "\n",
    "> **WELL-FIT:** `train_loss` < `valid_loss` (but both should be close)\n",
    "\n",
    "*Note: You never want a model where your training loss is higher than your validation loss. That means you have not fitted enough (either your LR is too low or epochs too few or both).*\n",
    "\n",
    "> **OVER-FIT:** error_rate gets better than worse\n",
    "\n",
    "*Note: People will tell you that if your tr_loss is lower than your validation loss then you are over fitting but NO NO NO that is not true. The error rate which is based on the validation set is your real indication of overfitting.*\n",
    "\n",
    "### Inspect Results\n",
    "\n",
    "```python\n",
    "interp = ClassificationInterpretation.from_learner(learn)\n",
    "losses,idxs = interp.top_losses()\n",
    "\n",
    "```\n",
    "\n",
    "You can use the interpretation class to look at the results in more detail.\n",
    "\n",
    "*Note: Use Kaggle competitions and academic papers to check how well your model is performing compared to others.*\n",
    "\n",
    "### Fine-tune to get Better Results\n",
    "\n",
    "```python\n",
    "learner.unfreeze()\n",
    "learner.fit_one_cycle(4, slice(X, 3e-4))\n",
    "```\n",
    "\n",
    "Where `X` is the steepest part of the most prominent slope of the `learner.lr_find()` plot minus about 10x.\n",
    "\n",
    "Calling `unfreeze()` will unfreeze the whole model so you can train the whole thing and fine-tune it a bit more. In doing so however its important to use a range of learning rates with a much smaller learning rate in the beginning of the model and a bit higher at the final layers. But still as a general rule use about 10x lower than the first max_lr you used in the firce training cycle.\n",
    "\n",
    "### Repeat as Needed\n",
    "\n",
    "Again, plot top losses, checkout the confusion matrix, look at train_loss vs valid_loss graphically."
   ]
  },
  {
   "cell_type": "markdown",
   "metadata": {
    "colab_type": "text",
    "hidden": true,
    "id": "XD7oZMjkRCE9"
   },
   "source": [
    "### Additional Notes\n",
    "\n",
    "* **LR too HIGH:** valid_loss will be really high (normally should be < 1)\n",
    "\n",
    "* **LR too LOW:** error_rate gets better but it will be happening really slowly *(Tip: use learner.recorder.plot_losses() to see how the tr_loss, vald_loss gradually go down together).*\n",
    "\n",
    "* **NUM EPOCHS too LOW:** looks similar to LR too low. If tr_loss and valid_loss are far apart consider running more cycles.\n",
    "\n",
    "* `learner.fit_one_cycle()` has replaced `fit()` as the new state of the art (faster and more accurate). It starts by shooting the learning rate up then gradually decreasing it.\n",
    "\n",
    "* `learner.lr_find()` is a tool that tells you how fast you can train the model without. After you unfreeze and plot lr to fine-tune, you can On the lr finder you are going to have to find the strongest downward slope (not little bumps) and pick the steepest part of it then choose about 10x small slice(steepest, 3e-4)\n",
    "\n",
    "* `learner.recorder.plot_lr()` see how the learning rate changes over time."
   ]
  },
  {
   "cell_type": "code",
   "execution_count": 0,
   "metadata": {
    "colab": {
     "base_uri": "https://localhost:8080/",
     "height": 35
    },
    "colab_type": "code",
    "hidden": true,
    "id": "V1_HrF0MtWLR",
    "outputId": "0fa50157-9a56-4167-b20a-a6dceea212b0"
   },
   "outputs": [
    {
     "data": {
      "text/html": [],
      "text/plain": [
       "<IPython.core.display.HTML object>"
      ]
     },
     "metadata": {
      "tags": []
     },
     "output_type": "display_data"
    },
    {
     "name": "stdout",
     "output_type": "stream",
     "text": [
      "LR Finder is complete, type {learner_name}.recorder.plot() to see the graph.\n"
     ]
    }
   ],
   "source": [
    "learner.lr_find()"
   ]
  },
  {
   "cell_type": "code",
   "execution_count": 0,
   "metadata": {
    "colab": {
     "base_uri": "https://localhost:8080/",
     "height": 283
    },
    "colab_type": "code",
    "hidden": true,
    "id": "h00wV5JQvPz6",
    "outputId": "a8f7b0de-1221-44e0-c0f9-49a8bf9465a4"
   },
   "outputs": [
    {
     "data": {
      "image/png": "[encoded data removed]",
      "text/plain": [
       "<Figure size 432x288 with 1 Axes>"
      ]
     },
     "metadata": {
      "tags": []
     },
     "output_type": "display_data"
    }
   ],
   "source": [
    "learner.recorder.plot()"
   ]
  },
  {
   "cell_type": "code",
   "execution_count": 0,
   "metadata": {
    "colab": {
     "base_uri": "https://localhost:8080/",
     "height": 173
    },
    "colab_type": "code",
    "hidden": true,
    "id": "eN-fYRt3J4Sv",
    "outputId": "5c028c75-d88a-48b7-d416-bfe37c87146b"
   },
   "outputs": [
    {
     "data": {
      "text/html": [
       "<table border=\"1\" class=\"dataframe\">\n",
       "  <thead>\n",
       "    <tr style=\"text-align: left;\">\n",
       "      <th>epoch</th>\n",
       "      <th>train_loss</th>\n",
       "      <th>valid_loss</th>\n",
       "      <th>error_rate</th>\n",
       "      <th>accuracy</th>\n",
       "      <th>time</th>\n",
       "    </tr>\n",
       "  </thead>\n",
       "  <tbody>\n",
       "    <tr>\n",
       "      <td>0</td>\n",
       "      <td>0.127503</td>\n",
       "      <td>0.041506</td>\n",
       "      <td>0.014230</td>\n",
       "      <td>0.985770</td>\n",
       "      <td>01:32</td>\n",
       "    </tr>\n",
       "    <tr>\n",
       "      <td>1</td>\n",
       "      <td>0.033828</td>\n",
       "      <td>0.024769</td>\n",
       "      <td>0.006379</td>\n",
       "      <td>0.993621</td>\n",
       "      <td>01:33</td>\n",
       "    </tr>\n",
       "    <tr>\n",
       "      <td>2</td>\n",
       "      <td>0.016513</td>\n",
       "      <td>0.013148</td>\n",
       "      <td>0.004907</td>\n",
       "      <td>0.995093</td>\n",
       "      <td>01:33</td>\n",
       "    </tr>\n",
       "    <tr>\n",
       "      <td>3</td>\n",
       "      <td>0.010246</td>\n",
       "      <td>0.011010</td>\n",
       "      <td>0.003925</td>\n",
       "      <td>0.996075</td>\n",
       "      <td>01:33</td>\n",
       "    </tr>\n",
       "  </tbody>\n",
       "</table>"
      ],
      "text/plain": [
       "<IPython.core.display.HTML object>"
      ]
     },
     "metadata": {
      "tags": []
     },
     "output_type": "display_data"
    }
   ],
   "source": [
    "learner.fit_one_cycle(4, 3e-3)"
   ]
  },
  {
   "cell_type": "code",
   "execution_count": 0,
   "metadata": {
    "colab": {
     "base_uri": "https://localhost:8080/",
     "height": 35
    },
    "colab_type": "code",
    "hidden": true,
    "id": "v4RtVRbmsM8t",
    "outputId": "d0d04081-244a-4fcd-cf81-9e23805b0137"
   },
   "outputs": [
    {
     "data": {
      "text/plain": [
       "True"
      ]
     },
     "execution_count": 10,
     "metadata": {
      "tags": []
     },
     "output_type": "execute_result"
    }
   ],
   "source": [
    "interp = ClassificationInterpretation.from_learner(learner)\n",
    "\n",
    "losses,idxs = interp.top_losses()\n",
    "\n",
    "len(data.valid_ds)==len(losses)==len(idxs)"
   ]
  },
  {
   "cell_type": "code",
   "execution_count": 0,
   "metadata": {
    "colab": {
     "base_uri": "https://localhost:8080/",
     "height": 787
    },
    "colab_type": "code",
    "hidden": true,
    "id": "sMDVCCk2xq8j",
    "outputId": "5e6719a6-f344-49c6-ef1c-7c9146405238"
   },
   "outputs": [
    {
     "data": {
      "image/png": "[encoded data removed]",
      "text/plain": [
       "<Figure size 864x864 with 12 Axes>"
      ]
     },
     "metadata": {
      "tags": []
     },
     "output_type": "display_data"
    }
   ],
   "source": [
    "interp.plot_top_losses(10)"
   ]
  },
  {
   "cell_type": "code",
   "execution_count": 0,
   "metadata": {
    "colab": {
     "base_uri": "https://localhost:8080/",
     "height": 311
    },
    "colab_type": "code",
    "hidden": true,
    "id": "OKg3SC0_QjUw",
    "outputId": "12f1fc20-ea93-4298-c2d6-95dc02796102"
   },
   "outputs": [
    {
     "data": {
      "image/png": "[encoded data removed]",
      "text/plain": [
       "<Figure size 432x288 with 1 Axes>"
      ]
     },
     "metadata": {
      "tags": []
     },
     "output_type": "display_data"
    }
   ],
   "source": [
    "interp.plot_confusion_matrix()"
   ]
  },
  {
   "cell_type": "code",
   "execution_count": 0,
   "metadata": {
    "colab": {
     "base_uri": "https://localhost:8080/",
     "height": 35
    },
    "colab_type": "code",
    "hidden": true,
    "id": "Cl6PET4Xx3BR",
    "outputId": "3376af40-6ae5-43e8-d7ca-043ef73cba54"
   },
   "outputs": [
    {
     "data": {
      "text/plain": [
       "[('3', '7', 5), ('7', '3', 3)]"
      ]
     },
     "execution_count": 15,
     "metadata": {
      "tags": []
     },
     "output_type": "execute_result"
    }
   ],
   "source": [
    "interp.most_confused()"
   ]
  },
  {
   "cell_type": "code",
   "execution_count": 0,
   "metadata": {
    "colab": {},
    "colab_type": "code",
    "hidden": true,
    "id": "mXNatjYAx-8-"
   },
   "outputs": [],
   "source": [
    "learner.unfreeze()"
   ]
  },
  {
   "cell_type": "code",
   "execution_count": 0,
   "metadata": {
    "colab": {
     "base_uri": "https://localhost:8080/",
     "height": 283
    },
    "colab_type": "code",
    "hidden": true,
    "id": "d9UEj_q9yLYS",
    "outputId": "fc50ee93-b6e2-4fd3-b844-96d1ab67a78c"
   },
   "outputs": [
    {
     "data": {
      "image/png": "[encoded data removed]",
      "text/plain": [
       "<Figure size 432x288 with 1 Axes>"
      ]
     },
     "metadata": {
      "tags": []
     },
     "output_type": "display_data"
    }
   ],
   "source": [
    "learner.recorder.plot_lr()"
   ]
  },
  {
   "cell_type": "code",
   "execution_count": 0,
   "metadata": {
    "colab": {
     "base_uri": "https://localhost:8080/",
     "height": 283
    },
    "colab_type": "code",
    "hidden": true,
    "id": "gFTHNDOGyQC3",
    "outputId": "d2d91e25-545d-4a7f-a5db-31c18c389330"
   },
   "outputs": [
    {
     "data": {
      "image/png": "[encoded data removed]",
      "text/plain": [
       "<Figure size 432x288 with 1 Axes>"
      ]
     },
     "metadata": {
      "tags": []
     },
     "output_type": "display_data"
    }
   ],
   "source": [
    "learner.recorder.plot_losses()"
   ]
  },
  {
   "cell_type": "code",
   "execution_count": 0,
   "metadata": {
    "colab": {
     "base_uri": "https://localhost:8080/",
     "height": 283
    },
    "colab_type": "code",
    "hidden": true,
    "id": "jHZpdW8myv5u",
    "outputId": "40c79c74-54b9-46fe-8d69-720e77bf086e"
   },
   "outputs": [
    {
     "data": {
      "image/png": "[encoded data removed]",
      "text/plain": [
       "<Figure size 432x288 with 1 Axes>"
      ]
     },
     "metadata": {
      "tags": []
     },
     "output_type": "display_data"
    }
   ],
   "source": [
    "learner.recorder.plot_losses(200)"
   ]
  },
  {
   "cell_type": "code",
   "execution_count": 0,
   "metadata": {
    "colab": {
     "base_uri": "https://localhost:8080/",
     "height": 35
    },
    "colab_type": "code",
    "hidden": true,
    "id": "uGn3-D_VzAuI",
    "outputId": "b811ecea-01e8-455a-e863-9a4ff6f67794"
   },
   "outputs": [
    {
     "data": {
      "text/html": [],
      "text/plain": [
       "<IPython.core.display.HTML object>"
      ]
     },
     "metadata": {
      "tags": []
     },
     "output_type": "display_data"
    },
    {
     "name": "stdout",
     "output_type": "stream",
     "text": [
      "LR Finder is complete, type {learner_name}.recorder.plot() to see the graph.\n"
     ]
    }
   ],
   "source": [
    "learner.lr_find()"
   ]
  },
  {
   "cell_type": "code",
   "execution_count": 0,
   "metadata": {
    "colab": {
     "base_uri": "https://localhost:8080/",
     "height": 283
    },
    "colab_type": "code",
    "hidden": true,
    "id": "VA_f3G81zXC7",
    "outputId": "20d53630-2aaa-43c7-fa55-79c383525ebb"
   },
   "outputs": [
    {
     "data": {
      "image/png": "[encoded data removed]",
      "text/plain": [
       "<Figure size 432x288 with 1 Axes>"
      ]
     },
     "metadata": {
      "tags": []
     },
     "output_type": "display_data"
    }
   ],
   "source": [
    "learner.recorder.plot()"
   ]
  },
  {
   "cell_type": "code",
   "execution_count": 0,
   "metadata": {
    "colab": {
     "base_uri": "https://localhost:8080/",
     "height": 173
    },
    "colab_type": "code",
    "hidden": true,
    "id": "J4hLBKapyHoO",
    "outputId": "94e3469f-789b-41ea-9a75-23299293cd12"
   },
   "outputs": [
    {
     "data": {
      "text/html": [
       "<table border=\"1\" class=\"dataframe\">\n",
       "  <thead>\n",
       "    <tr style=\"text-align: left;\">\n",
       "      <th>epoch</th>\n",
       "      <th>train_loss</th>\n",
       "      <th>valid_loss</th>\n",
       "      <th>error_rate</th>\n",
       "      <th>accuracy</th>\n",
       "      <th>time</th>\n",
       "    </tr>\n",
       "  </thead>\n",
       "  <tbody>\n",
       "    <tr>\n",
       "      <td>0</td>\n",
       "      <td>0.008559</td>\n",
       "      <td>0.009393</td>\n",
       "      <td>0.003435</td>\n",
       "      <td>0.996565</td>\n",
       "      <td>02:56</td>\n",
       "    </tr>\n",
       "    <tr>\n",
       "      <td>1</td>\n",
       "      <td>0.003772</td>\n",
       "      <td>0.009799</td>\n",
       "      <td>0.002944</td>\n",
       "      <td>0.997056</td>\n",
       "      <td>02:58</td>\n",
       "    </tr>\n",
       "    <tr>\n",
       "      <td>2</td>\n",
       "      <td>0.004605</td>\n",
       "      <td>0.011059</td>\n",
       "      <td>0.003435</td>\n",
       "      <td>0.996565</td>\n",
       "      <td>03:00</td>\n",
       "    </tr>\n",
       "    <tr>\n",
       "      <td>3</td>\n",
       "      <td>0.004098</td>\n",
       "      <td>0.009588</td>\n",
       "      <td>0.003925</td>\n",
       "      <td>0.996075</td>\n",
       "      <td>03:01</td>\n",
       "    </tr>\n",
       "  </tbody>\n",
       "</table>"
      ],
      "text/plain": [
       "<IPython.core.display.HTML object>"
      ]
     },
     "metadata": {
      "tags": []
     },
     "output_type": "display_data"
    }
   ],
   "source": [
    "learning_rate_finder_strongest_slope = 1e-6\n",
    "learner.fit_one_cycle(4, slice(learning_rate_finder_strongest_slope, 3e-4)) # the previous lr -10x"
   ]
  },
  {
   "cell_type": "markdown",
   "metadata": {
    "colab_type": "text",
    "hidden": true,
    "id": "uOwvjH0K1uZ0"
   },
   "source": [
    "We see that our model got better and then started to overfit a bit (error rate got worse). So, we'd probably want to learner.save() the model back before it started getting worse. Checkout the results again try training some more, expirimenting with different learning rates, maybe try a resnet with more layers (ie resnet34 or resnet50), etc."
   ]
  },
  {
   "cell_type": "markdown",
   "metadata": {
    "colab_type": "text",
    "heading_collapsed": true,
    "id": "E7k1QoF5Q-RF"
   },
   "source": [
    "# Deep Dives & Examples\n",
    "\n",
    "The purpose of this section is to help you understand in more detail different types of models, how and when they are used, more vocabulary and best practice, and more."
   ]
  },
  {
   "cell_type": "markdown",
   "metadata": {
    "colab_type": "text",
    "hidden": true,
    "id": "QTdpIk3bO97U"
   },
   "source": [
    "## Deep Dive: Single and Multi-Class Image Classification (fastai.vision)"
   ]
  },
  {
   "cell_type": "markdown",
   "metadata": {
    "colab_type": "text",
    "hidden": true,
    "id": "54Dh1wObSXOw"
   },
   "source": [
    "## Deep Dive: Image Segmentation (fastai.vision)"
   ]
  },
  {
   "cell_type": "markdown",
   "metadata": {
    "colab_type": "text",
    "hidden": true,
    "id": "DAec_yO_QpTk"
   },
   "source": [
    "## Deep Dive: Production / Inference"
   ]
  },
  {
   "cell_type": "markdown",
   "metadata": {
    "colab_type": "text",
    "hidden": true,
    "id": "Z7JZriTA-H6A"
   },
   "source": [
    "There are several ways to put a trained model into production but here I will just show you how to save the model for export or use in production then leave getting it into production to you.\n",
    "\n",
    "#### Create 'export.pkl' \n",
    "\n",
    "It will be created in the directory where we were working that contains everything we need to deploy our model (the model, the weights but also some metadata like the classes or the transforms/normalization used).\n",
    "\n",
    "```python\n",
    "learn.export()\n",
    "```\n",
    "\n",
    "#### Run predict\n",
    "\n",
    "This will allow you to call `predict(my_img)` on a new image (`my_img`).\n",
    "\n",
    "```python\n",
    "learn = load_learner(path)\n",
    "pred_class,pred_idx,outputs = learn.predict(my_img)\n",
    "```\n",
    "\n",
    "\n",
    "**Additional Notes**\n",
    "\n",
    "* **CPU or GPU for PROD?** Generally, you will want to use CPU for inference (predicting with a trained model)\n",
    "\n",
    "* `defaults.device = torch.device('cpu')` if you want to try running on CPU instead of GPU for testing"
   ]
  },
  {
   "cell_type": "code",
   "execution_count": 0,
   "metadata": {
    "colab": {},
    "colab_type": "code",
    "hidden": true,
    "id": "yhcVpMF1-wMd"
   },
   "outputs": [],
   "source": [
    "# classes = []\n",
    "# data2 = ImageDataBunch.single_from_classes(path, classes, tfms=get_transforms(), size=224).normalize(imagenet_stats)\n",
    "# learner = create_cnn(data2, models.resnet34)\n",
    "\n",
    "# pred_class, pred_idx, outputs = learner.predict(img)"
   ]
  },
  {
   "cell_type": "markdown",
   "metadata": {
    "colab_type": "text",
    "hidden": true,
    "id": "Mq0j9vmoKR2u"
   },
   "source": [
    "## Deep Dive: Stochastic Gradient Descent (SGD) w/ PyTorch\n",
    "\n",
    "Understanding SGD is a fundamental component of understanding deep learning because it is a simple example of a **cost function**."
   ]
  },
  {
   "cell_type": "markdown",
   "metadata": {
    "colab_type": "text",
    "hidden": true,
    "id": "D2XSqIxWWfHX"
   },
   "source": [
    "> **Objectives:** Implement SGD and undestand \n",
    "> 1. How to start with a guess and get to a best result by calculating error (using a cost function - SGD in this case) and its gradient to help us determine if our guess is getting better or worse.\n",
    "> 2. How **learning rate** is analogous to step size"
   ]
  },
  {
   "cell_type": "markdown",
   "metadata": {
    "colab_type": "text",
    "hidden": true,
    "id": "JZyxePP_Bfot"
   },
   "source": [
    "**Formal Problem Statement:** Find the coefficents a and b (they are called parameters in PyTorch) of the line equation such that it best fits the points.\n",
    "\n",
    "`y = ax + b`"
   ]
  },
  {
   "cell_type": "code",
   "execution_count": 0,
   "metadata": {
    "colab": {
     "base_uri": "https://localhost:8080/",
     "height": 269
    },
    "colab_type": "code",
    "hidden": true,
    "id": "OJ_KbLtJOK5_",
    "outputId": "90e176bd-5ea9-4948-c2e4-af49ffb6f57e"
   },
   "outputs": [
    {
     "data": {
      "image/png": "[encoded data removed]",
      "text/plain": [
       "<Figure size 432x288 with 1 Axes>"
      ]
     },
     "metadata": {
      "tags": []
     },
     "output_type": "display_data"
    }
   ],
   "source": [
    "n=100\n",
    "x = torch.ones(n,2) # 100x2 tensor/vector/array\n",
    "x[:,0].uniform_(-1.,1) # all rows, first column create values between -1 and 1\n",
    "# x[:5]\n",
    "a = tensor(3.,2)\n",
    "y = x@a + torch.rand(n)\n",
    "plt.scatter(x[:,0], y); # plot the equation with the first column of x"
   ]
  },
  {
   "cell_type": "markdown",
   "metadata": {
    "colab_type": "text",
    "hidden": true,
    "id": "IF94Z2YaO39P"
   },
   "source": [
    "**The steps we will take**\n",
    "\n",
    "1. Try drawing a line (ie. compute prediction called `y_hat`)\n",
    "\n",
    "2. Calculate `loss` (in this case mse makes sense but we can use any loss function). The differents between the predition and the actual values of y.\n",
    "\n",
    "3. Calculate the derivative of the loss (called gradient). PyTorch calculates the derivative for you using `.backward` and stores the result in an attribute called `.grad`\n",
    "\n",
    "4. Update the coefficients a and b\n"
   ]
  },
  {
   "cell_type": "code",
   "execution_count": 0,
   "metadata": {
    "colab": {},
    "colab_type": "code",
    "hidden": true,
    "id": "Lk7r00f3PEv1"
   },
   "outputs": [],
   "source": [
    "# Define loss function given prediction and actual\n",
    "def mse(y_hat, y): return ((y_hat-y)**2).mean()"
   ]
  },
  {
   "cell_type": "code",
   "execution_count": 0,
   "metadata": {
    "colab": {
     "base_uri": "https://localhost:8080/",
     "height": 305
    },
    "colab_type": "code",
    "hidden": true,
    "id": "j1c80CggRIHA",
    "outputId": "17574e6b-8366-46cb-8de1-2b683b2d1a3f"
   },
   "outputs": [
    {
     "name": "stdout",
     "output_type": "stream",
     "text": [
      "tensor(7.9185)\n"
     ]
    },
    {
     "data": {
      "text/plain": [
       "<matplotlib.collections.PathCollection at 0x7fc035ee4ac8>"
      ]
     },
     "execution_count": 57,
     "metadata": {
      "tags": []
     },
     "output_type": "execute_result"
    },
    {
     "data": {
      "image/png": "[encoded data removed]",
      "text/plain": [
       "<Figure size 432x288 with 1 Axes>"
      ]
     },
     "metadata": {
      "tags": []
     },
     "output_type": "display_data"
    }
   ],
   "source": [
    "# Lets guess that a is -1, 1\n",
    "a = tensor(-1.,1) # then we can compute a prediction\n",
    "y_hat = x@a # compute prediction\n",
    "loss = mse(y_hat, y) # calculate our error and plot it\n",
    "print(loss)\n",
    "plt.scatter(x[:,0],y) # original points\n",
    "plt.scatter(x[:,0],y_hat) # prediction"
   ]
  },
  {
   "cell_type": "code",
   "execution_count": 0,
   "metadata": {
    "colab": {
     "base_uri": "https://localhost:8080/",
     "height": 305
    },
    "colab_type": "code",
    "hidden": true,
    "id": "olXW6pCWSjPU",
    "outputId": "2a97dac3-b1c6-425e-a568-9633fed2fe47"
   },
   "outputs": [
    {
     "name": "stdout",
     "output_type": "stream",
     "text": [
      "tensor(0.3291)\n"
     ]
    },
    {
     "data": {
      "text/plain": [
       "<matplotlib.collections.PathCollection at 0x7fc031953a58>"
      ]
     },
     "execution_count": 59,
     "metadata": {
      "tags": []
     },
     "output_type": "execute_result"
    },
    {
     "data": {
      "image/png": "[encoded data removed]",
      "text/plain": [
       "<Figure size 432x288 with 1 Axes>"
      ]
     },
     "metadata": {
      "tags": []
     },
     "output_type": "display_data"
    }
   ],
   "source": [
    "# Lets try a different guess; lets guess a is 3, 2\n",
    "a = tensor(3.,2.)\n",
    "y_hat = x@a # compute prediction\n",
    "loss = mse(y_hat, y) # calculate our error and plot it\n",
    "print(loss)\n",
    "plt.scatter(x[:,0],y) # original points\n",
    "plt.scatter(x[:,0],y_hat) # prediction"
   ]
  },
  {
   "cell_type": "markdown",
   "metadata": {
    "colab_type": "text",
    "hidden": true,
    "id": "nP64Wca7RwcY"
   },
   "source": [
    "So we can see we will get less loss if we fit a line closer to our points.\n",
    "\n",
    "Now let's do it iteratively with PyTorch."
   ]
  },
  {
   "cell_type": "code",
   "execution_count": 0,
   "metadata": {
    "colab": {
     "base_uri": "https://localhost:8080/",
     "height": 53
    },
    "colab_type": "code",
    "hidden": true,
    "id": "vX9s5I56NhER",
    "outputId": "eec0e84e-8e58-4448-d4ba-0874820742d1"
   },
   "outputs": [
    {
     "data": {
      "text/plain": [
       "Parameter containing:\n",
       "tensor([3., 2.], requires_grad=True)"
      ]
     },
     "execution_count": 60,
     "metadata": {
      "tags": []
     },
     "output_type": "execute_result"
    }
   ],
   "source": [
    "a = nn.Parameter(a); a # start with some parameter a (default -1, 1)"
   ]
  },
  {
   "cell_type": "code",
   "execution_count": 0,
   "metadata": {
    "colab": {},
    "colab_type": "code",
    "hidden": true,
    "id": "0EC48gqrBvoq"
   },
   "outputs": [],
   "source": [
    "def update():\n",
    "    y_hat = x@a # compute prediction\n",
    "    loss = mse(y, y_hat) # compute error\n",
    "    \n",
    "    if t % 10 == 0: print(loss) # defined later (print loss every now and again)\n",
    "\n",
    "    # compute the gradient or slope or dloss/dx for every param x\n",
    "    # this will tell you which way is DOWN TO LOWER LOSS\n",
    "    loss.backward() # this just gets us the slope (ie. the params)\n",
    "\n",
    "    with torch.no_grad(): # turn grad calcs off when you do the SGD update\n",
    "        # note: lr is just what we multiply by the gradient (step size)\n",
    "        a.sub_(lr * a.grad) # update a (subtract coefficients from gradient in place)\n",
    "        a.grad.zero_() #zero out the gradients so we can restart"
   ]
  },
  {
   "cell_type": "code",
   "execution_count": 0,
   "metadata": {
    "colab": {
     "base_uri": "https://localhost:8080/",
     "height": 197
    },
    "colab_type": "code",
    "hidden": true,
    "id": "XQ1ygYYQNi3Q",
    "outputId": "dd152cf3-dbde-46c4-c3b9-941158844cd4"
   },
   "outputs": [
    {
     "name": "stdout",
     "output_type": "stream",
     "text": [
      "tensor(0.3291, grad_fn=<MeanBackward0>)\n",
      "tensor(0.0881, grad_fn=<MeanBackward0>)\n",
      "tensor(0.0853, grad_fn=<MeanBackward0>)\n",
      "tensor(0.0853, grad_fn=<MeanBackward0>)\n",
      "tensor(0.0853, grad_fn=<MeanBackward0>)\n",
      "tensor(0.0853, grad_fn=<MeanBackward0>)\n",
      "tensor(0.0853, grad_fn=<MeanBackward0>)\n",
      "tensor(0.0853, grad_fn=<MeanBackward0>)\n",
      "tensor(0.0853, grad_fn=<MeanBackward0>)\n",
      "tensor(0.0853, grad_fn=<MeanBackward0>)\n"
     ]
    }
   ],
   "source": [
    "lr = 1e-1\n",
    "for t in range(100): update()"
   ]
  },
  {
   "cell_type": "markdown",
   "metadata": {
    "colab_type": "text",
    "hidden": true,
    "id": "d72QXQApKdAx"
   },
   "source": [
    "## Deep Dive: Natural Language Processing (NLP) (fastai.text)\n",
    "\n",
    "NLP will help us add to our understanding of deep learning by showing us a slightly modified architicture that happens to be really good at solving language problems (or more generally sequential problems)."
   ]
  },
  {
   "cell_type": "markdown",
   "metadata": {
    "colab_type": "text",
    "hidden": true,
    "id": "7Y2fM3vDXEN7"
   },
   "source": [
    "> **Objectives:**"
   ]
  },
  {
   "cell_type": "markdown",
   "metadata": {
    "colab_type": "text",
    "hidden": true,
    "id": "2Pd8PduIZDV5"
   },
   "source": [
    "**Case Study:** Classify movie reviews as positive or negative from IMDB.\n",
    "\n",
    "**Method:** Use the pretrained language model (Wikitext103) then we will train a IMBd language model then classify the text as positive or negative.\n",
    "\n",
    "#### Step 1: Create TextClassificationDataBunch\n",
    "\n",
    "#### Step 2: Tokenization and Numericalization\n",
    "\n",
    "TextClassificationDataBunch\n",
    "Tokenization\n",
    "Numericalization\n",
    "\n",
    "**Additional Notes**\n",
    "\n",
    "* If you are doing NLP on Kaggle use all of the text (train and test) to train your model. The only thing you can't use are the labels.\n",
    "\n",
    "* Recurrent Neural Network\n"
   ]
  },
  {
   "cell_type": "markdown",
   "metadata": {
    "colab_type": "text",
    "hidden": true,
    "id": "LFfarM04Sq12"
   },
   "source": [
    "## Deep Dive: Tabular Data (fastai.tabular)"
   ]
  },
  {
   "cell_type": "markdown",
   "metadata": {
    "colab_type": "text",
    "hidden": true,
    "id": "CblE8-ykjyni"
   },
   "source": [
    "If you have things in a spreadsheet or relational database, etc. you can use NN to analyze tabular data\n",
    "\n",
    "Example:\n",
    "Like sales forecasting, product failure prediction, pricing, credit risk, resume screening, store location optimization, etc\n",
    "\n"
   ]
  },
  {
   "cell_type": "markdown",
   "metadata": {
    "colab_type": "text",
    "hidden": true,
    "id": "KqYxVUT4TFX2"
   },
   "source": [
    "## Deep Dive: Collaborative Filtering (fastai.collab)"
   ]
  },
  {
   "cell_type": "markdown",
   "metadata": {
    "colab_type": "text",
    "hidden": true,
    "id": "sfU4y5Jmk8Es"
   },
   "source": [
    "**Definition:** \n",
    "- one model\n",
    "\n",
    "Case Study: Movie Predictions; Customer Purchase Prediction\n",
    "\n",
    "Will user 49 like movie 103?\n",
    "\n",
    "Method:\n",
    "Create two random matricies (one for each movie and users) and use gradient descent to make the products of the matricies give you a prediction close to what people rate the movies as.\n",
    "\n",
    "\n",
    "UserID, MovieID, Rating?\n",
    "\n",
    "URLs.ML_SAMPLE: MovieLens dataset\n",
    "\n",
    "Make predictions based on other peoples preferences\n",
    "\n",
    "Problems:\n",
    "\n",
    "* **Cold Start Problem:** The time you particularly care about recomending good movies is when you have a new user and thats also the time when you have no data ; Solution: metadata driven model or ask people using the UX...\n",
    "\n",
    "* blablabla\n",
    "\n",
    "\n",
    "\n",
    "\n",
    "\n",
    "\n",
    "\n"
   ]
  },
  {
   "cell_type": "markdown",
   "metadata": {
    "colab_type": "text",
    "hidden": true,
    "id": "zvR9ztMVKnVW"
   },
   "source": [
    "## Deep Dive: Foundations of Neural Networks"
   ]
  },
  {
   "cell_type": "markdown",
   "metadata": {
    "colab_type": "text",
    "heading_collapsed": true,
    "id": "2Dw85M6rTWZo"
   },
   "source": [
    "# Vocabulary and Reference Materials"
   ]
  },
  {
   "cell_type": "markdown",
   "metadata": {
    "colab_type": "text",
    "hidden": true,
    "id": "g2Ockke3nq9w"
   },
   "source": [
    "**Universal Approximation Theorem:** An awesome mathematical property arises when you combine matrix multiplication and relus in which you can solve any arbitrarily complex mathematical function to any arbitrarily high level of accuracy (assuming you can train the params in terms of time, data availability, etc).\n",
    "\n",
    "**Backpropagation:** The algorithm used to update parameters/weights in a network. In the simple case of SGD its the part where we update our parameter/weights guess (params -= params.grad * lr).\n",
    "\n",
    "**Discriminative Learning Rates:** Differential learning rates across layers of a neural net. Particularly useful when using trainsfer learning because we may want to train the earlier layers slower than the later ones.\n",
    "\n",
    "**Accelerated SGD:** The use of momentum and other optimizaton techniques to do SGD faster.\n",
    "\n",
    "**Latent Factors/Features:** Things that suddenly appear when training. For example if you have a RNN language model and female appears near nurse and male  appears near doctor. They are basically relevant 'aggregates' of observered features.\n",
    "\n",
    "**Embedding:** A computational shortcut...an array lookup that is mathematically identical to matrix multiply by a 1-hot encoded matrix. `n_factors = 40` (this is the width of the embedding matrix?) \n",
    "\n",
    "Eg. take a 2D matrix rep of bla and you can start to see interesting things. \"The embedding projection discovered geography\"\n",
    "\n",
    "**Regularization:** A technique used to keep models from overfitting. There are lots of methods of doing this for example with momentum, weight decay, etc. A way to penalize the loss function and therefore simplify the model.\n",
    "\n",
    "**Weight Decay:** A type of regularization in which we penalize complexity so that our algorithm generalizes better. Take a loss function and take the sum^2 of the errors times the wd (a very small number) and this will penalize complexity.\n",
    "\n",
    "Note: WD of .1 typically works well but fastai folks have been very conservative with it and .01 is the default.\n",
    "\n",
    "**Optimizers:** PyTorch optimizers allow you to optimize a learner by using things like momentum, weight decay, etc. One common optimizer is Adam. \n",
    "\n",
    "**Adaptive Moment Estimation (Adam):** An optimization technique for gradient descent that uses momentum + rms prop to jump around more efficiently to get to convergence. Its basically a way of having a dynamic learning rate.\n",
    "\n",
    "`optim.Adam(...)`\n",
    "\n",
    "Note: learner is just doing this for you\n",
    "\n",
    "**Momentum:** A term that is added to the update function to help optimize the speed of convergence.\n",
    "\n",
    "In fastai, .9 is really common and tends to work well.\n",
    "\n",
    "Learning rate vs momentum graph: when lr is low mom is higher (that combination is called fit_one_cycle).\n",
    "\n",
    "**Principle Component Analysis:** A technique for dimentionality reduction (reducing the number of columns).\n",
    "\n",
    "Taking layers of neural nets and chucking them through PCA is VERY OFTEN a good idea because often we have way more activations than we really need.\n",
    "\n",
    "Eg. Image Similarity -> use PCA\n",
    "\n",
    "**Dropout:** A regularization technique to keep NNs from overfitting. Takes a std fully connected nw then at random it throws away some activations and the things connected to it. We throw each away with a probability P then put them back and throw away some other ones.\n",
    "\n",
    "`ps=X #the probability for each dropout`\n",
    "\n",
    "Note: Special dropout on the embedding layer is sometimes used because ????\n",
    "\n",
    "**Batch Normalization:** A regularization technique\n",
    "\n",
    "**Data Augmentation:** Another type of regularization which helps you generalize and costs you nothing. \n",
    "\n",
    "**Convolutions:** A specific type of multiplication in which you multiply things by a kernal (martix) to get an output. It finds edges and gradients\n",
    "\n",
    "Stride2 convolution - skipping every alternate input pixel\n",
    "\n",
    "setosa.io/ev/image-kernals\n",
    "\n",
    "**Resblocks and Skip Connections:** Using skip connections\n",
    "\n",
    "TODO READ: Visualizing Loss Landscape of Neural Nets\n",
    "\n",
    "`SequentialEx`\n",
    "\n",
    "`MergeLayer`\n",
    "\n",
    "**Dense Net/Dense Block:** Resnet with concat instead of + like in res...things get big quick; memory intensive but for small datasets they can be really really great.\n",
    "\n",
    "**Data Ethics:** We can generate realistic looking text, video and audio now so we need to speak about ethics.\n",
    "\n",
    "Imagenet is over half America and Great Brittian so there is a LOT of bias in the people that are creating it.\n",
    "\n",
    "Russell Brandom\n",
    "Ali Winston\n",
    "Jacon Snow\n",
    "\n",
    "**U-net Architecture:** Conv Networks for Biomedical Image Segmentation\n",
    "\n",
    "Down-sampling path (encoder)\n",
    "Up-sampling path (decoder)\n",
    "\n",
    "Lets us do a conv that lets us end up with somethign that is 2x the size:\n",
    "* Nearest Neighbor Interpolation - aaa\n",
    "* Bilinear Interpolation - bbb\n",
    "* Pixel Shuffling (fastai) - Subpixel convolutions\n",
    "\n",
    "Cross Connections\n",
    "\n",
    "Skip Links\n",
    "\n",
    "Summary: Identity connections (+ or concat style) are really useful\n",
    "\n",
    "**Generative Adversarial Network (GAN):** Uses a loss function that calls another model\n",
    "\n",
    "Generator ()\n",
    "Discriminator/Critic (is this a hi-res or generated pic)\n",
    "\n",
    "----\n",
    "\n",
    "How can we represent concepts? Eg. reverse engineering, shiny, etc\n",
    "\n",
    " "
   ]
  },
  {
   "cell_type": "code",
   "execution_count": 0,
   "metadata": {
    "colab": {},
    "colab_type": "code",
    "hidden": true,
    "id": "7IIsxBBsj9oI"
   },
   "outputs": [],
   "source": [
    "learn.summary() # print output shape of every layer\n",
    "learn.model # show the model\n",
    "\n",
    "# manual convolutions\n",
    "# TODO\n",
    "\n",
    "# Heatmap\n",
    "how_heatmap(avg_acts)\n",
    "# m[0] will be the convolutional part of the model\n"
   ]
  },
  {
   "cell_type": "markdown",
   "metadata": {
    "colab_type": "text",
    "hidden": true,
    "id": "8xW2dXexItd6"
   },
   "source": [
    "Here is what we've learned so far\n",
    "\n",
    "Affine functions and non-linearities\n",
    "\n",
    "Parameters and activations\n",
    "\n",
    "Random init and transfer learning\n",
    "\n",
    "SGD; Momentum; Adam\n",
    "\n",
    "Convolutions\n",
    "\n",
    "Batch-norm\n",
    "\n",
    "Droupout\n",
    "\n",
    "Data augmentation\n",
    "\n",
    "Weight decay\n",
    "\n",
    "Res/dense blocks\n",
    "\n",
    "Image Classification and regression\n",
    "\n",
    "Embeddings\n",
    "\n",
    "Continuous and categorical variables\n",
    "\n",
    "Collaboratice filtering\n",
    "\n",
    "Language models; NLP classification\n",
    "\n",
    "Segmentation; U-net-GANs\n",
    "\n",
    "RNNs; stacked RNN\n",
    "* great for sequence labeling tasks"
   ]
  }
 ],
 "metadata": {
  "colab": {
   "collapsed_sections": [
    "jrxyfzqyOWqP",
    "V1LEjyrIJoXB",
    "DAec_yO_QpTk",
    "Mq0j9vmoKR2u",
    "d72QXQApKdAx",
    "LFfarM04Sq12",
    "KqYxVUT4TFX2"
   ],
   "name": "Fastai Course Part I Notes.ipynb",
   "provenance": []
  },
  "kernelspec": {
   "display_name": "Python 3",
   "language": "python",
   "name": "python3"
  },
  "language_info": {
   "codemirror_mode": {
    "name": "ipython",
    "version": 3
   },
   "file_extension": ".py",
   "mimetype": "text/x-python",
   "name": "python",
   "nbconvert_exporter": "python",
   "pygments_lexer": "ipython3",
   "version": "3.7.4"
  }
 },
 "nbformat": 4,
 "nbformat_minor": 1
}
